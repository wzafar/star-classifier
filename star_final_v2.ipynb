{
  "nbformat": 4,
  "nbformat_minor": 5,
  "metadata": {
    "kernelspec": {
      "display_name": "Python 3",
      "language": "python",
      "name": "python3"
    },
    "colab": {
      "name": "star_final.ipynb",
      "provenance": [],
      "collapsed_sections": []
    }
  },
  "cells": [
    {
      "cell_type": "code",
      "metadata": {
        "id": "medium-norman"
      },
      "source": [
        "import pandas as pd\n",
        "import sklearn as sk\n",
        "import scipy\n",
        "import numpy as np\n",
        "import matplotlib.pyplot as plt\n",
        "from sklearn.preprocessing import MinMaxScaler, StandardScaler, RobustScaler, normalize \n",
        "from sklearn.linear_model import LogisticRegression\n",
        "# from sklearn.metrics import accuracy_score,plot_confusion_matrix,precision_score,recall_score,f1_score\n",
        "from sklearn.model_selection import train_test_split\n",
        "from sklearn.metrics import confusion_matrix\n",
        "from sklearn.metrics import classification_report\n",
        "\n",
        "\n"
      ],
      "id": "medium-norman",
      "execution_count": null,
      "outputs": []
    },
    {
      "cell_type": "code",
      "metadata": {
        "id": "killing-immunology"
      },
      "source": [
        "import warnings\n",
        "warnings.filterwarnings('ignore')"
      ],
      "id": "killing-immunology",
      "execution_count": null,
      "outputs": []
    },
    {
      "cell_type": "code",
      "metadata": {
        "id": "failing-football"
      },
      "source": [
        "# train = pd.read_csv('./data/exoTrain.csv')\n",
        "\n",
        "# test = pd.read_csv('./data/exoTest.csv')\n",
        "\n",
        "from google.colab import drive \n",
        "drive.mount('/content/gdrive')\n",
        "\n",
        "\n",
        "train = pd.read_csv('gdrive/My Drive/exoTrain.csv')\n",
        "test = pd.read_csv('gdrive/My Drive/exoTest.csv')\n",
        "\n"
      ],
      "id": "failing-football",
      "execution_count": null,
      "outputs": []
    },
    {
      "cell_type": "code",
      "metadata": {
        "id": "polished-slope"
      },
      "source": [
        "train.head()"
      ],
      "id": "polished-slope",
      "execution_count": null,
      "outputs": []
    },
    {
      "cell_type": "code",
      "metadata": {
        "id": "visible-morocco"
      },
      "source": [
        "# visualizing non-exoplanet-stars\n",
        "fig = plt.figure(figsize=(15,40))\n",
        "x = np.array(range(3197))\n",
        "for i in range(10):\n",
        "    ax = fig.add_subplot(14,4,i+1)\n",
        "    ax.plot(x,train[train.LABEL == 1].iloc[i,1:])\n",
        "\n",
        "\n",
        "\n"
      ],
      "id": "visible-morocco",
      "execution_count": null,
      "outputs": []
    },
    {
      "cell_type": "code",
      "metadata": {
        "id": "designed-contents"
      },
      "source": [
        "# visualizing exoplanet-stars: trend over time is approximately periodic and outliers are present\n",
        "fig = plt.figure(figsize=(15,40))\n",
        "x = np.array(range(3197))\n",
        "for i in range(10):\n",
        "    ax = fig.add_subplot(14,4,i+1)\n",
        "    ax.plot(x,train[train.LABEL == 2].iloc[i,1:])\n"
      ],
      "id": "designed-contents",
      "execution_count": null,
      "outputs": []
    },
    {
      "cell_type": "code",
      "metadata": {
        "id": "acting-layer"
      },
      "source": [
        "# visualizing flux distribution of non-exoplanet-stars: narrower distribution b/c flux values are more consistent\n",
        "fig = plt.figure(figsize=(15,40))\n",
        "for i in range(20):\n",
        "    ax = fig.add_subplot(14,4,i+1)\n",
        "    train[train.LABEL ==1].iloc[i,1:].hist(bins=60)\n"
      ],
      "id": "acting-layer",
      "execution_count": null,
      "outputs": []
    },
    {
      "cell_type": "code",
      "metadata": {
        "id": "comparable-scott"
      },
      "source": [
        "# visualizing flux distribution of exoplanet-stars: wider distribution b/c flux values vary more \n",
        "fig = plt.figure(figsize=(15,40))\n",
        "for i in range(20):\n",
        "    ax = fig.add_subplot(14,4,i+1)\n",
        "    train[train.LABEL ==2].iloc[i,1:].hist(bins=60)"
      ],
      "id": "comparable-scott",
      "execution_count": null,
      "outputs": []
    },
    {
      "cell_type": "code",
      "metadata": {
        "id": "younger-tension"
      },
      "source": [
        "from sklearn.model_selection import train_test_split\n",
        "\n",
        "y_train = train['LABEL']\n",
        "X_train = train[train.columns[1:]]\n",
        "\n",
        "y_test = test['LABEL']\n",
        "X_test = test[train.columns[1:]]\n",
        "print('LABEL' not in X_train.columns) ## check that we didn't include the labels\n",
        "print('LABEL' not in X_test.columns) ## check that we didn't include the labels"
      ],
      "id": "younger-tension",
      "execution_count": null,
      "outputs": []
    },
    {
      "cell_type": "code",
      "metadata": {
        "id": "federal-foundation"
      },
      "source": [
        "# train split\n",
        "y_train.value_counts()"
      ],
      "id": "federal-foundation",
      "execution_count": null,
      "outputs": []
    },
    {
      "cell_type": "code",
      "metadata": {
        "id": "architectural-merchandise"
      },
      "source": [
        "# baseline model w/o any processing\n",
        "from sklearn import svm\n",
        "svm = svm.SVC(kernel = 'rbf')\n",
        "svm.fit(X_train,y_train)\n",
        "preds = svm.predict(X_test)\n",
        "print(classification_report(y_test,preds))"
      ],
      "id": "architectural-merchandise",
      "execution_count": null,
      "outputs": []
    },
    {
      "cell_type": "code",
      "metadata": {
        "id": "duplicate-anaheim"
      },
      "source": [
        "preds_train = svm.predict(X_train)\n",
        "print(classification_report(y_train,preds_train))"
      ],
      "id": "duplicate-anaheim",
      "execution_count": null,
      "outputs": []
    },
    {
      "cell_type": "code",
      "metadata": {
        "id": "working-queensland"
      },
      "source": [
        "# we will do a heavy amount of feature engineering"
      ],
      "id": "working-queensland",
      "execution_count": null,
      "outputs": []
    },
    {
      "cell_type": "code",
      "metadata": {
        "id": "automatic-arthritis"
      },
      "source": [
        "y_test.value_counts()"
      ],
      "id": "automatic-arthritis",
      "execution_count": null,
      "outputs": []
    },
    {
      "cell_type": "code",
      "metadata": {
        "id": "golden-oasis"
      },
      "source": [
        "from imblearn.over_sampling import SMOTE\n",
        "from collections import Counter\n",
        "oversample = SMOTE()\n",
        "X_sampled, y_sampled = oversample.fit_resample(X_train, y_train)\n",
        "# summarize the new class distribution\n",
        "counter = Counter(y_sampled)\n",
        "print(counter)"
      ],
      "id": "golden-oasis",
      "execution_count": null,
      "outputs": []
    },
    {
      "cell_type": "code",
      "metadata": {
        "id": "referenced-template"
      },
      "source": [
        "from sklearn.manifold import TSNE\n",
        "X_embedded = TSNE(n_components=2).fit_transform(X_sampled)\n",
        "X_embedded.shape"
      ],
      "id": "referenced-template",
      "execution_count": null,
      "outputs": []
    },
    {
      "cell_type": "code",
      "metadata": {
        "id": "metropolitan-sweden"
      },
      "source": [
        "plt.figure(figsize = (20,10))\n",
        "plt.title('TSNE reduction with SMOTE')\n",
        "plt.scatter(X_embedded[:,0], X_embedded[:,1], c=y_sampled)\n",
        "plt.colorbar()\n",
        "plt.grid()\n",
        "plt.xlabel('X1')\n",
        "plt.ylabel('X2')\n",
        "plt.show()"
      ],
      "id": "metropolitan-sweden",
      "execution_count": null,
      "outputs": []
    },
    {
      "cell_type": "code",
      "metadata": {
        "id": "bizarre-norwegian"
      },
      "source": [
        "# one can clearly identify the positive samples generated by SMOTE in the tsne reduction"
      ],
      "id": "bizarre-norwegian",
      "execution_count": null,
      "outputs": []
    },
    {
      "cell_type": "code",
      "metadata": {
        "id": "stretch-louisiana"
      },
      "source": [
        "# separate model with processing\n",
        "from sklearn import svm\n",
        "svm = svm.SVC(kernel = 'rbf', probability = True)\n",
        "svm.fit(X_sampled,y_sampled)\n",
        "preds = svm.predict(X_test)\n",
        "print(classification_report(y_test,preds))"
      ],
      "id": "stretch-louisiana",
      "execution_count": null,
      "outputs": []
    },
    {
      "cell_type": "code",
      "metadata": {
        "id": "cultural-bottle"
      },
      "source": [
        "preds_train = svm.predict(X_sampled)\n",
        "print(classification_report(y_sampled,preds_train))"
      ],
      "id": "cultural-bottle",
      "execution_count": null,
      "outputs": []
    },
    {
      "cell_type": "code",
      "metadata": {
        "id": "liked-heater"
      },
      "source": [
        "from sklearn.metrics import plot_confusion_matrix\n",
        "\n",
        "plot_confusion_matrix(svm, X_test, y_test)"
      ],
      "id": "liked-heater",
      "execution_count": null,
      "outputs": []
    },
    {
      "cell_type": "code",
      "metadata": {
        "id": "hourly-subsection"
      },
      "source": [
        "subset = X_sampled[y_sampled==2]\n",
        "probs = svm.predict_proba(subset)"
      ],
      "id": "hourly-subsection",
      "execution_count": null,
      "outputs": []
    },
    {
      "cell_type": "code",
      "metadata": {
        "id": "drawn-boards"
      },
      "source": [
        "plt.figure(figsize = (20,10))\n",
        "\n",
        "plt.scatter(list(range(0,probs.shape[0])), probs[:,1])\n",
        "plt.axhline(0.5, color = 'r')\n",
        "plt.ylim(0.4,0.6)\n",
        "plt.title('Probabilities for True class (Training Set)')\n",
        "plt.ylabel('Prediction')\n",
        "plt.xlabel('Sample Number')\n",
        "plt.grid()"
      ],
      "id": "drawn-boards",
      "execution_count": null,
      "outputs": []
    },
    {
      "cell_type": "code",
      "metadata": {
        "id": "accompanied-omega"
      },
      "source": [
        "subset = X_test[y_test==2]\n",
        "probs = svm.predict_proba(subset)\n",
        "plt.figure(figsize = (20,10))\n",
        "\n",
        "plt.scatter(list(range(0,probs.shape[0])), probs[:,1])\n",
        "plt.axhline(0.5, color = 'r')\n",
        "plt.ylim(0.4,0.6)\n",
        "plt.title('Probabilities for True class (Test Set)')\n",
        "plt.ylabel('Prediction')\n",
        "plt.xlabel('Sample Number')\n",
        "plt.grid()"
      ],
      "id": "accompanied-omega",
      "execution_count": null,
      "outputs": []
    },
    {
      "cell_type": "code",
      "metadata": {
        "id": "nutritional-stand"
      },
      "source": [
        "test_probs = svm.predict_proba(X_test)"
      ],
      "id": "nutritional-stand",
      "execution_count": null,
      "outputs": []
    },
    {
      "cell_type": "code",
      "metadata": {
        "id": "concrete-lounge"
      },
      "source": [
        "test_preds = [2 if test_probs[i,1]>0.470 else 1 for i in range(0,len(test_probs))]\n",
        "test_preds2= [2 if test_probs[i,1]>0.475 else 1 for i in range(0,len(test_probs))]\n",
        "test_preds3 = [2 if test_probs[i,1]>0.485 else 1 for i in range(0,len(test_probs))]\n",
        "\n",
        "Counter(test_preds)"
      ],
      "id": "concrete-lounge",
      "execution_count": null,
      "outputs": []
    },
    {
      "cell_type": "code",
      "metadata": {
        "id": "original-fighter"
      },
      "source": [
        "print(classification_report(y_test,test_preds))\n",
        "print(classification_report(y_test,test_preds2))\n",
        "print(classification_report(y_test,test_preds3))"
      ],
      "id": "original-fighter",
      "execution_count": null,
      "outputs": []
    },
    {
      "cell_type": "code",
      "metadata": {
        "id": "gentle-authority"
      },
      "source": [
        "from sklearn.metrics import confusion_matrix\n",
        "import seaborn as sn\n",
        "import pandas as pd\n",
        "\n",
        "plt.figure(figsize = (10,7))\n",
        "cm = confusion_matrix(y_test, test_preds)\n",
        "sn.heatmap(cm, annot=True)\n",
        "\n",
        "\n",
        "plt.figure(figsize = (10,7))\n",
        "cm = confusion_matrix(y_test, test_preds2)\n",
        "sn.heatmap(cm, annot=True)\n",
        "\n",
        "plt.figure(figsize = (10,7))\n",
        "cm = confusion_matrix(y_test, test_preds3)\n",
        "sn.heatmap(cm, annot=True)"
      ],
      "id": "gentle-authority",
      "execution_count": null,
      "outputs": []
    },
    {
      "cell_type": "code",
      "metadata": {
        "id": "accompanied-marathon"
      },
      "source": [
        "# signal processing\n",
        "from scipy import fftpack\n",
        "\n",
        "fs = 3\n",
        "sample = X_sampled.iloc[1000] \n",
        "fft_wave = np.fft.fft(sample)\n",
        "\n",
        "# Compute the Discrete Fourier Transform sample frequencies.\n",
        "\n",
        "fft_fre = np.fft.fftfreq(n=sample.shape[0], d=1/fs)"
      ],
      "id": "accompanied-marathon",
      "execution_count": null,
      "outputs": []
    },
    {
      "cell_type": "code",
      "metadata": {
        "id": "virtual-pursuit"
      },
      "source": [
        "plt.plot(fft_fre, fft_wave.real, label=\"Real part\")\n",
        "\n",
        "plt.legend(loc=1)\n",
        "plt.title(\"FFT in Frequency Domain\")"
      ],
      "id": "virtual-pursuit",
      "execution_count": null,
      "outputs": []
    },
    {
      "cell_type": "code",
      "metadata": {
        "id": "confirmed-williams"
      },
      "source": [
        "yf = fftpack.fft(sample.values, len(sample))\n",
        "\n",
        "amp = np.abs(yf) # get amplitude spectrum \n",
        "freq = np.linspace(0.0, 1.0/(2.0*(6/500)), len(sample)//2) # get freq axis\n",
        "\n",
        "# plot the amp spectrum\n",
        "\n",
        "plt.figure(figsize=(10,6))\n",
        "plt.plot(freq, (2/amp.size)*amp[0:amp.size//2])\n",
        "plt.show()"
      ],
      "id": "confirmed-williams",
      "execution_count": null,
      "outputs": []
    },
    {
      "cell_type": "code",
      "metadata": {
        "id": "common-convenience"
      },
      "source": [
        "from scipy.signal import detrend\n",
        "\n",
        "def remove_noise(data):\n",
        "    import scipy.signal as signal\n",
        "    N  = 3    \n",
        "    Wn = 0.15\n",
        "    B, A = signal.butter(N, Wn, output='ba')\n",
        "    smooth_data = signal.filtfilt(B,A, data)\n",
        "    return smooth_data"
      ],
      "id": "common-convenience",
      "execution_count": null,
      "outputs": []
    },
    {
      "cell_type": "code",
      "metadata": {
        "id": "4lTZCBgngtwV"
      },
      "source": [
        "X_sampled = pd.DataFrame(X_sampled)"
      ],
      "id": "4lTZCBgngtwV",
      "execution_count": null,
      "outputs": []
    },
    {
      "cell_type": "code",
      "metadata": {
        "id": "quick-polish"
      },
      "source": [
        "from scipy.signal import butter,filtfilt\n",
        "from scipy import signal\n",
        "import matplotlib.pyplot as plt\n",
        "\n",
        "def apply_bandpass(sig):\n",
        "    # Filter requirements.\n",
        "    fs = 30.0       # sample rate, Hz\n",
        "    T = len(sig)/fs       # Sample Period\n",
        "    cutoff = [0.1, 2.5] #0.3-0.45 for resting\n",
        "    nyq = 0.5 * fs  # Nyquist Frequency\n",
        "    order = 2  # sin wave can be approx represented as quadratic\n",
        "    n = int(T * fs) # total number of samples\n",
        "    def butter_bandpass_filter(data, cutoff, fs, order):\n",
        "       # normal_cutoff = cutoff / nyq\n",
        "        # Get the filter coefficients \n",
        "        b, a = butter(order, [cutoff[0]/nyq, cutoff[1]/nyq], btype='bandpass', analog=False)\n",
        "        y = filtfilt(b, a, data)\n",
        "        return y\n",
        "    y = butter_bandpass_filter(sig, cutoff, fs, order)\n",
        "    return signal.detrend(y)"
      ],
      "id": "quick-polish",
      "execution_count": null,
      "outputs": []
    },
    {
      "cell_type": "code",
      "metadata": {
        "id": "average-professional"
      },
      "source": [
        "t1 = apply_bandpass(X_sampled.iloc[12].values)\n",
        "\n",
        "plt.figure(figsize = (15,10))\n",
        "plt.plot(signal.detrend(t1), label = 'filtered')\n",
        "plt.plot(X_sampled.iloc[0].values-450, label = 'original')\n",
        "plt.legend()\n",
        "plt.grid()\n",
        "plt.title('Bandpass Filtering, label = {}'.format(str(y_sampled[12])))"
      ],
      "id": "average-professional",
      "execution_count": null,
      "outputs": []
    },
    {
      "cell_type": "code",
      "metadata": {
        "id": "rapid-billion"
      },
      "source": [
        "t1 = apply_bandpass(X_sampled.iloc[230].values)\n",
        "\n",
        "plt.figure(figsize = (15,10))\n",
        "plt.plot(signal.detrend(t1), label = 'filtered')\n",
        "plt.plot(X_sampled.iloc[0].values, label = 'original')\n",
        "plt.legend()\n",
        "plt.grid()\n",
        "plt.title('Bandpass Filtering, label = {}'.format(str(y_sampled[230])))"
      ],
      "id": "rapid-billion",
      "execution_count": null,
      "outputs": []
    },
    {
      "cell_type": "code",
      "metadata": {
        "id": "antique-livestock"
      },
      "source": [
        "idx = 5950\n",
        "t1 = apply_bandpass(X_sampled.iloc[idx].values)\n",
        "\n",
        "plt.figure(figsize = (15,10))\n",
        "plt.plot(signal.detrend(t1), label = 'filtered')\n",
        "plt.plot(X_sampled.iloc[0].values-450, label = 'original')\n",
        "plt.legend()\n",
        "plt.grid()\n",
        "plt.title('Bandpass Filtering, label = {}'.format(str(y_sampled[idx])))"
      ],
      "id": "antique-livestock",
      "execution_count": null,
      "outputs": []
    },
    {
      "cell_type": "code",
      "metadata": {
        "id": "periodic-bicycle"
      },
      "source": [
        "X_sampled.head()"
      ],
      "id": "periodic-bicycle",
      "execution_count": null,
      "outputs": []
    },
    {
      "cell_type": "code",
      "metadata": {
        "id": "discrete-papua"
      },
      "source": [
        "X_new_sampled = X_sampled.apply(apply_bandpass, axis = 1)\n",
        "X_new_test = X_test.apply(apply_bandpass, axis = 1)\n"
      ],
      "id": "discrete-papua",
      "execution_count": null,
      "outputs": []
    },
    {
      "cell_type": "code",
      "metadata": {
        "id": "green-comparison"
      },
      "source": [
        "plt.figure(figsize = (15,10))\n",
        "idx = 7670\n",
        "plt.plot(X_sampled.iloc[idx].values, label = 'original')\n",
        "plt.plot(X_new_sampled.iloc[idx]-150, label = 'filtered')\n",
        "plt.legend()\n",
        "plt.grid()\n",
        "plt.title('Bandpass Filtering, label = {}'.format(str(y_sampled[idx])))"
      ],
      "id": "green-comparison",
      "execution_count": null,
      "outputs": []
    },
    {
      "cell_type": "code",
      "metadata": {
        "id": "colored-pension"
      },
      "source": [
        "X_new_sampled = np.stack(X_new_sampled.values)"
      ],
      "id": "colored-pension",
      "execution_count": null,
      "outputs": []
    },
    {
      "cell_type": "code",
      "metadata": {
        "id": "according-action"
      },
      "source": [
        "from sklearn.pipeline import Pipeline\n",
        "from sklearn.preprocessing import StandardScaler\n",
        "from sklearn.neural_network import MLPClassifier\n",
        "from sklearn import svm\n",
        "\n",
        "\n",
        "#X_new_sampled = StandardScaler().fit_transform(X_new_sampled)\n",
        "clf = MLPClassifier(random_state=1, max_iter=300, verbose = 3).fit(X_new_sampled, list(y_sampled))\n",
        "\n",
        "# predict the labels of the test data \n",
        "#preds = classifier.predict(X_test)\n"
      ],
      "id": "according-action",
      "execution_count": null,
      "outputs": []
    },
    {
      "cell_type": "code",
      "metadata": {
        "id": "amended-guidance"
      },
      "source": [
        "train_preds = clf.predict(X_new_sampled)\n",
        "print(classification_report(train_preds, y_sampled))\n",
        "\n",
        "from sklearn.metrics import confusion_matrix\n",
        "import seaborn as sn\n",
        "import pandas as pd\n",
        "\n",
        "plt.figure(figsize = (10,7))\n",
        "cm = confusion_matrix(y_sampled, train_preds)\n",
        "sn.heatmap(cm, annot=True)"
      ],
      "id": "amended-guidance",
      "execution_count": null,
      "outputs": []
    },
    {
      "cell_type": "code",
      "metadata": {
        "id": "starting-presence"
      },
      "source": [
        "X_new_test = X_test.apply(apply_bandpass, axis=1)\n",
        "X_new_test = np.stack(X_new_test.values)"
      ],
      "id": "starting-presence",
      "execution_count": null,
      "outputs": []
    },
    {
      "cell_type": "code",
      "metadata": {
        "id": "adverse-moral"
      },
      "source": [
        "test_preds = clf.predict(X_new_test)"
      ],
      "id": "adverse-moral",
      "execution_count": null,
      "outputs": []
    },
    {
      "cell_type": "code",
      "metadata": {
        "id": "republican-harrison"
      },
      "source": [
        "print(classification_report(test_preds, y_test))"
      ],
      "id": "republican-harrison",
      "execution_count": null,
      "outputs": []
    },
    {
      "cell_type": "code",
      "metadata": {
        "id": "genetic-dublin"
      },
      "source": [
        "plt.figure(figsize = (10,7))\n",
        "cm = confusion_matrix(y_test, test_preds)\n",
        "sn.heatmap(cm, annot=True)"
      ],
      "id": "genetic-dublin",
      "execution_count": null,
      "outputs": []
    },
    {
      "cell_type": "code",
      "metadata": {
        "id": "handed-algorithm"
      },
      "source": [
        "## still poor test performance, try a different approach"
      ],
      "id": "handed-algorithm",
      "execution_count": null,
      "outputs": []
    },
    {
      "cell_type": "code",
      "metadata": {
        "id": "educational-david"
      },
      "source": [
        "plt.figure(figsize = (20,10))\n",
        "plt.plot(X_new_sampled[6540])\n",
        "#plt.plot(X_sampled.iloc[6540].values)"
      ],
      "id": "educational-david",
      "execution_count": null,
      "outputs": []
    },
    {
      "cell_type": "code",
      "metadata": {
        "id": "instrumental-synthesis"
      },
      "source": [
        "# find an array to get the diffs of a signal\n",
        "max_shape = 0\n",
        "for i, r in enumerate(X_new_sampled):\n",
        "    p = signal.find_peaks(r, height = 0.3*max(r))\n",
        "    shap = len(np.diff(p[0]))\n",
        "    if(shap>max_shape):\n",
        "        max_shape = shap\n",
        "    \n",
        "    "
      ],
      "id": "instrumental-synthesis",
      "execution_count": null,
      "outputs": []
    },
    {
      "cell_type": "code",
      "metadata": {
        "id": "guided-genetics"
      },
      "source": [
        "new_data = np.zeros((X_new_sampled.shape[0], max_shape))\n",
        "print(max_shape)"
      ],
      "id": "guided-genetics",
      "execution_count": null,
      "outputs": []
    },
    {
      "cell_type": "code",
      "metadata": {
        "id": "banner-ability"
      },
      "source": [
        "for i, r in enumerate(X_new_sampled):\n",
        "    p = signal.find_peaks((r), height = 0.3*max(r))\n",
        "    diffs = (np.diff(p[0]))\n",
        "    needed = max_shape - len(diffs)\n",
        "    diffs = np.pad(diffs, (0, needed), constant_values = (0, np.mean(diffs)))\n",
        "    new_data[i,:] = diffs"
      ],
      "id": "banner-ability",
      "execution_count": null,
      "outputs": []
    },
    {
      "cell_type": "code",
      "metadata": {
        "id": "hollow-proceeding"
      },
      "source": [
        "plt.figure(figsize = (20,10))\n",
        "plt.plot(new_data[9403])\n",
        "plt.plot(new_data[2340])"
      ],
      "id": "hollow-proceeding",
      "execution_count": null,
      "outputs": []
    },
    {
      "cell_type": "code",
      "metadata": {
        "id": "flexible-consequence"
      },
      "source": [
        "def get_fft_spectrum(signal):\n",
        "    Fs = 1\n",
        "    n = len(signal) # length of the signal\n",
        "    k = np.arange(n)\n",
        "    T = n/Fs\n",
        "    frq = k/T # two sides frequency range\n",
        "    frq = frq[:len(frq)//2] # one side frequency range\n",
        "\n",
        "    Y = np.fft.fft(signal)/n # dft and normalization\n",
        "    Y = Y[:n//2]\n",
        "\n",
        "    return frq, abs(Y)"
      ],
      "id": "flexible-consequence",
      "execution_count": null,
      "outputs": []
    },
    {
      "cell_type": "code",
      "metadata": {
        "id": "meaning-detective"
      },
      "source": [
        "plt.figure(figsize = (20,10))\n",
        "plt.plot(X_new_sampled[7120])\n",
        "plt.plot(X_new_sampled[1203]) "
      ],
      "id": "meaning-detective",
      "execution_count": null,
      "outputs": []
    },
    {
      "cell_type": "code",
      "metadata": {
        "id": "departmental-librarian"
      },
      "source": [
        "s1 = get_fft_spectrum(X_new_sampled[7120])\n",
        "s2 = get_fft_spectrum(X_new_sampled[1203])\n",
        "\n",
        "plt.figure(figsize = (10,10))\n",
        "plt.plot(s1[0], s1[1], label ='exo')\n",
        "plt.plot(s2[0], s2[1], label = 'no_exo') # plotting the spectrum\n",
        "plt.legend()\n"
      ],
      "id": "departmental-librarian",
      "execution_count": null,
      "outputs": []
    },
    {
      "cell_type": "code",
      "metadata": {
        "id": "invalid-numbers",
        "collapsed": true
      },
      "source": [
        "exo_max = []\n",
        "n_exo_max = []\n",
        "\n",
        "for i, r in enumerate(X_new_sampled):\n",
        "    fft = get_fft_spectrum(r)\n",
        "    large = fft[1][np.argmax(fft[1])]\n",
        "    if(y_sampled[i] ==1):\n",
        "        n_exo_max.append(large)\n",
        "    elif(y_sampled[i]==2):\n",
        "        exo_max.append(large)"
      ],
      "id": "invalid-numbers",
      "execution_count": 72,
      "outputs": []
    },
    {
      "cell_type": "code",
      "metadata": {
        "id": "executed-meter",
        "colab": {
          "base_uri": "https://localhost:8080/",
          "height": 592
        },
        "outputId": "40cfc186-d9c8-4784-f4a5-97a33e5802cd"
      },
      "source": [
        "plt.figure(figsize = (20,10))\n",
        "plt.plot(exo_max, label = 'exo')\n",
        "plt.plot(n_exo_max, label = 'n_exo')\n",
        "plt.legend()\n",
        "plt.grid()"
      ],
      "id": "executed-meter",
      "execution_count": 73,
      "outputs": [
        {
          "output_type": "display_data",
          "data": {
            "image/png": "[encoded data removed]",
            "text/plain": [
              "<Figure size 1440x720 with 1 Axes>"
            ]
          },
          "metadata": {
            "tags": [],
            "needs_background": "light"
          }
        }
      ]
    },
    {
      "cell_type": "code",
      "metadata": {
        "id": "greater-mechanism",
        "colab": {
          "base_uri": "https://localhost:8080/",
          "height": 592
        },
        "outputId": "c84fc0fb-1bb7-431c-8411-2d3e7d80b012"
      },
      "source": [
        "plt.figure(figsize = (20,10))\n",
        "plt.scatter(list(range(0, len(exo_max))), exo_max, label = 'exo')\n",
        "plt.scatter(list(range(0,len(n_exo_max))),n_exo_max, label = 'n_exo')\n",
        "plt.legend()\n",
        "plt.grid()"
      ],
      "id": "greater-mechanism",
      "execution_count": 74,
      "outputs": [
        {
          "output_type": "display_data",
          "data": {
            "image/png": "[encoded data removed]",
            "text/plain": [
              "<Figure size 1440x720 with 1 Axes>"
            ]
          },
          "metadata": {
            "tags": [],
            "needs_background": "light"
          }
        }
      ]
    },
    {
      "cell_type": "code",
      "metadata": {
        "id": "perfect-minnesota"
      },
      "source": [
        "fft_data = np.zeros((X_new_sampled.shape[0], 1598))\n",
        "for i, r in enumerate(X_new_sampled):\n",
        "    fft = get_fft_spectrum(r)\n",
        "    fft_data[i,:] = fft[1]"
      ],
      "id": "perfect-minnesota",
      "execution_count": 75,
      "outputs": []
    },
    {
      "cell_type": "code",
      "metadata": {
        "scrolled": true,
        "id": "worthy-homework",
        "colab": {
          "base_uri": "https://localhost:8080/",
          "height": 1000
        },
        "outputId": "2d298378-9a85-4529-acc6-d81ee457e8f1"
      },
      "source": [
        "clf = MLPClassifier(random_state=1, max_iter=600, verbose = 3).fit(fft_data, y_sampled)\n",
        "\n",
        "\n",
        "train_preds = clf.predict(fft_data)\n",
        "print(classification_report(train_preds, y_sampled))\n",
        "\n",
        "from sklearn.metrics import confusion_matrix\n",
        "import seaborn as sn\n",
        "import pandas as pd\n",
        "\n",
        "plt.figure(figsize = (10,7))\n",
        "cm = confusion_matrix(y_sampled, train_preds)\n",
        "sn.heatmap(cm, annot=True)"
      ],
      "id": "worthy-homework",
      "execution_count": 76,
      "outputs": [
        {
          "output_type": "stream",
          "text": [
            "Iteration 1, loss = inf\n",
            "Iteration 2, loss = inf\n",
            "Iteration 3, loss = 0.38720821\n",
            "Iteration 4, loss = 0.33282037\n",
            "Iteration 5, loss = 0.28612601\n",
            "Iteration 6, loss = 0.23604929\n",
            "Iteration 7, loss = 0.19298365\n",
            "Iteration 8, loss = 0.15438490\n",
            "Iteration 9, loss = 0.12433903\n",
            "Iteration 10, loss = 0.10354699\n",
            "Iteration 11, loss = inf\n",
            "Iteration 12, loss = 0.11611254\n",
            "Iteration 13, loss = 0.07445611\n",
            "Iteration 14, loss = 0.06362047\n",
            "Iteration 15, loss = 0.05542865\n",
            "Iteration 16, loss = 0.04901306\n",
            "Iteration 17, loss = 0.04317444\n",
            "Iteration 18, loss = 0.03833069\n",
            "Iteration 19, loss = 0.05020962\n",
            "Iteration 20, loss = 0.04064130\n",
            "Iteration 21, loss = 0.02953435\n",
            "Iteration 22, loss = 0.02622012\n",
            "Iteration 23, loss = 0.02388678\n",
            "Iteration 24, loss = 0.02178767\n",
            "Iteration 25, loss = 0.01991964\n",
            "Iteration 26, loss = 0.01830127\n",
            "Iteration 27, loss = 0.01692080\n",
            "Iteration 28, loss = 0.01588898\n",
            "Iteration 29, loss = 0.01449508\n",
            "Iteration 30, loss = 0.01341358\n",
            "Iteration 31, loss = 0.01253064\n",
            "Iteration 32, loss = 0.01168926\n",
            "Iteration 33, loss = 0.01078036\n",
            "Iteration 34, loss = 0.01013056\n",
            "Iteration 35, loss = 0.00949621\n",
            "Iteration 36, loss = 0.00893103\n",
            "Iteration 37, loss = 0.00836438\n",
            "Iteration 38, loss = 0.00786355\n",
            "Iteration 39, loss = 0.00733722\n",
            "Iteration 40, loss = 0.00686955\n",
            "Iteration 41, loss = 0.08971929\n",
            "Iteration 42, loss = inf\n",
            "Iteration 43, loss = inf\n",
            "Iteration 44, loss = inf\n",
            "Iteration 45, loss = 0.02314556\n",
            "Iteration 46, loss = 0.01684825\n",
            "Iteration 47, loss = 0.01435090\n",
            "Iteration 48, loss = 0.01281510\n",
            "Iteration 49, loss = 0.01177564\n",
            "Iteration 50, loss = 0.01094459\n",
            "Iteration 51, loss = 0.01025137\n",
            "Training loss did not improve more than tol=0.000100 for 10 consecutive epochs. Stopping.\n",
            "              precision    recall  f1-score   support\n",
            "\n",
            "           1       1.00      1.00      1.00      5045\n",
            "           2       1.00      1.00      1.00      5055\n",
            "\n",
            "    accuracy                           1.00     10100\n",
            "   macro avg       1.00      1.00      1.00     10100\n",
            "weighted avg       1.00      1.00      1.00     10100\n",
            "\n"
          ],
          "name": "stdout"
        },
        {
          "output_type": "execute_result",
          "data": {
            "text/plain": [
              "<matplotlib.axes._subplots.AxesSubplot at 0x7fe3d84877d0>"
            ]
          },
          "metadata": {
            "tags": []
          },
          "execution_count": 76
        },
        {
          "output_type": "display_data",
          "data": {
            "image/png": "[encoded data removed]",
            "text/plain": [
              "<Figure size 720x504 with 2 Axes>"
            ]
          },
          "metadata": {
            "tags": [],
            "needs_background": "light"
          }
        }
      ]
    },
    {
      "cell_type": "code",
      "metadata": {
        "id": "severe-registration"
      },
      "source": [
        "X_test_scaled = np.zeros((X_new_test.shape[0], 1598))\n",
        "\n",
        "for i, r in enumerate(X_new_test):\n",
        "    fft = get_fft_spectrum(r)\n",
        "    X_test_scaled[i,:] = fft[1]"
      ],
      "id": "severe-registration",
      "execution_count": 77,
      "outputs": []
    },
    {
      "cell_type": "code",
      "metadata": {
        "id": "composed-azerbaijan",
        "colab": {
          "base_uri": "https://localhost:8080/",
          "height": 598
        },
        "outputId": "a44b4994-6558-4c51-8287-cea74fb3d67f"
      },
      "source": [
        "test_preds = clf.predict(X_test_scaled)\n",
        "print(classification_report(test_preds, y_test))\n",
        "\n",
        "from sklearn.metrics import confusion_matrix\n",
        "import seaborn as sn\n",
        "import pandas as pd\n",
        "\n",
        "plt.figure(figsize = (10,7))\n",
        "cm = confusion_matrix(y_test, test_preds)\n",
        "sn.heatmap(cm, annot=True)"
      ],
      "id": "composed-azerbaijan",
      "execution_count": 78,
      "outputs": [
        {
          "output_type": "stream",
          "text": [
            "              precision    recall  f1-score   support\n",
            "\n",
            "           1       1.00      1.00      1.00       565\n",
            "           2       0.60      0.60      0.60         5\n",
            "\n",
            "    accuracy                           0.99       570\n",
            "   macro avg       0.80      0.80      0.80       570\n",
            "weighted avg       0.99      0.99      0.99       570\n",
            "\n"
          ],
          "name": "stdout"
        },
        {
          "output_type": "execute_result",
          "data": {
            "text/plain": [
              "<matplotlib.axes._subplots.AxesSubplot at 0x7fe3d8434590>"
            ]
          },
          "metadata": {
            "tags": []
          },
          "execution_count": 78
        },
        {
          "output_type": "display_data",
          "data": {
            "image/png": "[encoded data removed]",
            "text/plain": [
              "<Figure size 720x504 with 2 Axes>"
            ]
          },
          "metadata": {
            "tags": [],
            "needs_background": "light"
          }
        }
      ]
    },
    {
      "cell_type": "code",
      "metadata": {
        "scrolled": true,
        "id": "deadly-intersection",
        "colab": {
          "base_uri": "https://localhost:8080/",
          "height": 1000
        },
        "outputId": "57095625-928e-4c13-b783-8556c1382953"
      },
      "source": [
        "clf = MLPClassifier(random_state=1, max_iter=800, verbose = 3, tol =0.0000001).fit(fft_data, y_sampled)\n",
        "\n",
        "\n",
        "train_preds = clf.predict(fft_data)\n",
        "print(classification_report(train_preds, y_sampled))\n",
        "\n",
        "from sklearn.metrics import confusion_matrix\n",
        "import seaborn as sn\n",
        "import pandas as pd\n",
        "\n",
        "plt.figure(figsize = (10,7))\n",
        "cm = confusion_matrix(y_sampled, train_preds)\n",
        "sn.heatmap(cm, annot=True)"
      ],
      "id": "deadly-intersection",
      "execution_count": 79,
      "outputs": [
        {
          "output_type": "stream",
          "text": [
            "Iteration 1, loss = inf\n",
            "Iteration 2, loss = inf\n",
            "Iteration 3, loss = 0.38720821\n",
            "Iteration 4, loss = 0.33282037\n",
            "Iteration 5, loss = 0.28612601\n",
            "Iteration 6, loss = 0.23604929\n",
            "Iteration 7, loss = 0.19298365\n",
            "Iteration 8, loss = 0.15438490\n",
            "Iteration 9, loss = 0.12433903\n",
            "Iteration 10, loss = 0.10354699\n",
            "Iteration 11, loss = inf\n",
            "Iteration 12, loss = 0.11611254\n",
            "Iteration 13, loss = 0.07445611\n",
            "Iteration 14, loss = 0.06362047\n",
            "Iteration 15, loss = 0.05542865\n",
            "Iteration 16, loss = 0.04901306\n",
            "Iteration 17, loss = 0.04317444\n",
            "Iteration 18, loss = 0.03833069\n",
            "Iteration 19, loss = 0.05020962\n",
            "Iteration 20, loss = 0.04064130\n",
            "Iteration 21, loss = 0.02953435\n",
            "Iteration 22, loss = 0.02622012\n",
            "Iteration 23, loss = 0.02388678\n",
            "Iteration 24, loss = 0.02178767\n",
            "Iteration 25, loss = 0.01991964\n",
            "Iteration 26, loss = 0.01830127\n",
            "Iteration 27, loss = 0.01692080\n",
            "Iteration 28, loss = 0.01588898\n",
            "Iteration 29, loss = 0.01449508\n",
            "Iteration 30, loss = 0.01341358\n",
            "Iteration 31, loss = 0.01253064\n",
            "Iteration 32, loss = 0.01168926\n",
            "Iteration 33, loss = 0.01078036\n",
            "Iteration 34, loss = 0.01013056\n",
            "Iteration 35, loss = 0.00949621\n",
            "Iteration 36, loss = 0.00893103\n",
            "Iteration 37, loss = 0.00836438\n",
            "Iteration 38, loss = 0.00786355\n",
            "Iteration 39, loss = 0.00733722\n",
            "Iteration 40, loss = 0.00686955\n",
            "Iteration 41, loss = 0.08971929\n",
            "Iteration 42, loss = inf\n",
            "Iteration 43, loss = inf\n",
            "Iteration 44, loss = inf\n",
            "Iteration 45, loss = 0.02314556\n",
            "Iteration 46, loss = 0.01684825\n",
            "Iteration 47, loss = 0.01435090\n",
            "Iteration 48, loss = 0.01281510\n",
            "Iteration 49, loss = 0.01177564\n",
            "Iteration 50, loss = 0.01094459\n",
            "Iteration 51, loss = 0.01025137\n",
            "Training loss did not improve more than tol=0.000000 for 10 consecutive epochs. Stopping.\n",
            "              precision    recall  f1-score   support\n",
            "\n",
            "           1       1.00      1.00      1.00      5045\n",
            "           2       1.00      1.00      1.00      5055\n",
            "\n",
            "    accuracy                           1.00     10100\n",
            "   macro avg       1.00      1.00      1.00     10100\n",
            "weighted avg       1.00      1.00      1.00     10100\n",
            "\n"
          ],
          "name": "stdout"
        },
        {
          "output_type": "execute_result",
          "data": {
            "text/plain": [
              "<matplotlib.axes._subplots.AxesSubplot at 0x7fe3d8374f90>"
            ]
          },
          "metadata": {
            "tags": []
          },
          "execution_count": 79
        },
        {
          "output_type": "display_data",
          "data": {
            "image/png": "[encoded data removed]",
            "text/plain": [
              "<Figure size 720x504 with 2 Axes>"
            ]
          },
          "metadata": {
            "tags": [],
            "needs_background": "light"
          }
        }
      ]
    },
    {
      "cell_type": "code",
      "metadata": {
        "id": "anticipated-embassy",
        "colab": {
          "base_uri": "https://localhost:8080/",
          "height": 581
        },
        "outputId": "4c8de2a5-94d5-4ce0-c8ff-17c0ffda4b6c"
      },
      "source": [
        "test_preds = clf.predict(X_test_scaled)\n",
        "print(classification_report(test_preds, y_test))\n",
        "\n",
        "from sklearn.metrics import confusion_matrix\n",
        "import seaborn as sn\n",
        "import pandas as pd\n",
        "\n",
        "plt.figure(figsize = (10,7))\n",
        "plt.xlabel('Predicted')\n",
        "plt.ylabel('Actual')\n",
        "cm = confusion_matrix(y_test, test_preds)\n",
        "sn.heatmap(cm, annot=True)\n",
        "plt.show()"
      ],
      "id": "anticipated-embassy",
      "execution_count": 80,
      "outputs": [
        {
          "output_type": "stream",
          "text": [
            "              precision    recall  f1-score   support\n",
            "\n",
            "           1       1.00      1.00      1.00       565\n",
            "           2       0.60      0.60      0.60         5\n",
            "\n",
            "    accuracy                           0.99       570\n",
            "   macro avg       0.80      0.80      0.80       570\n",
            "weighted avg       0.99      0.99      0.99       570\n",
            "\n"
          ],
          "name": "stdout"
        },
        {
          "output_type": "display_data",
          "data": {
            "image/png": "[encoded data removed]",
            "text/plain": [
              "<Figure size 720x504 with 2 Axes>"
            ]
          },
          "metadata": {
            "tags": [],
            "needs_background": "light"
          }
        }
      ]
    },
    {
      "cell_type": "code",
      "metadata": {
        "colab": {
          "base_uri": "https://localhost:8080/"
        },
        "id": "reORNLBZxSrB",
        "outputId": "4c2525a4-4610-4165-9f92-b3406f6492c2"
      },
      "source": [
        "X_new_test.shape"
      ],
      "id": "reORNLBZxSrB",
      "execution_count": 81,
      "outputs": [
        {
          "output_type": "execute_result",
          "data": {
            "text/plain": [
              "(570, 3197)"
            ]
          },
          "metadata": {
            "tags": []
          },
          "execution_count": 81
        }
      ]
    },
    {
      "cell_type": "markdown",
      "metadata": {
        "id": "Nm3Kb045FcDj"
      },
      "source": [
        "## NEW PROCESS: NEURAL NETWORK AND PROCESSING"
      ],
      "id": "Nm3Kb045FcDj"
    },
    {
      "cell_type": "code",
      "metadata": {
        "id": "QuqxCzzTy6Vz"
      },
      "source": [
        "## dataset process for NN\n",
        "\n",
        "\n",
        "\n",
        "train = pd.read_csv('gdrive/My Drive/exoTrain.csv')\n",
        "test = pd.read_csv('gdrive/My Drive/exoTest.csv')\n"
      ],
      "id": "QuqxCzzTy6Vz",
      "execution_count": 82,
      "outputs": []
    },
    {
      "cell_type": "code",
      "metadata": {
        "id": "IRLZRxBN0-B1"
      },
      "source": [
        "import pandas as pd\n",
        "import numpy as np\n",
        "import seaborn as sns\n",
        "import matplotlib.pyplot as plt\n",
        "import scipy.signal\n",
        "from scipy.signal import savgol_filter\n",
        "from  scipy import ndimage\n",
        "from sklearn.preprocessing import MinMaxScaler, StandardScaler, RobustScaler, normalize \n",
        "from scipy.ndimage.filters import uniform_filter1d\n",
        "from sklearn.metrics import accuracy_score\n",
        "from sklearn.metrics import precision_score\n",
        "from sklearn.metrics import recall_score\n",
        "from sklearn.metrics import f1_score\n",
        "from sklearn.metrics import roc_auc_score\n",
        "from sklearn.metrics import confusion_matrix\n",
        "from sklearn.metrics import classification_report\n",
        "from sklearn.metrics import balanced_accuracy_score\n",
        "from keras.models import Sequential\n",
        "from keras.layers import Dense, Dropout, Conv1D, MaxPooling1D, Flatten\n",
        "from keras.optimizers import Adam, SGD\n",
        "from keras import metrics, regularizers\n",
        "from keras.callbacks import EarlyStopping\n",
        "from keras import backend as K\n",
        "import keras\n",
        "import seaborn as sn\n",
        "import math\n",
        "import timeit\n",
        "import tensorflow as tf"
      ],
      "id": "IRLZRxBN0-B1",
      "execution_count": 83,
      "outputs": []
    },
    {
      "cell_type": "code",
      "metadata": {
        "id": "Cn1-_mEeFu8k"
      },
      "source": [
        "y_train = train.LABEL\n",
        "X_train = train.drop('LABEL',axis=1)\n",
        "y_test = test.LABEL\n",
        "X_test = test.drop('LABEL',axis=1)"
      ],
      "id": "Cn1-_mEeFu8k",
      "execution_count": 84,
      "outputs": []
    },
    {
      "cell_type": "code",
      "metadata": {
        "id": "sNIJLoLFGEQ8"
      },
      "source": [
        "def reduce_upper_outliers(df,reduce = 0.01, half_width=4):\n",
        "    length = len(df.iloc[0,:])\n",
        "    remove = int(length*reduce)\n",
        "    for i in df.index.values:\n",
        "        values = df.loc[i,:]\n",
        "        sorted_values = values.sort_values(ascending = False)\n",
        "        for j in range(remove): \n",
        "            idx = sorted_values.index[j]\n",
        "            new_val = 0\n",
        "            count = 0\n",
        "            idx_num = int(idx[5:])\n",
        "            for k in range(2*half_width+1):\n",
        "                idx2 = idx_num + k - half_width\n",
        "                if idx2 <1 or idx2 >= length or idx_num == idx2:\n",
        "                    continue\n",
        "                new_val += values['FLUX.'+str(idx2)]\n",
        "\n",
        "                count += 1\n",
        "            new_val /= count \n",
        "            if new_val < values[idx]:\n",
        "                df.at[i,idx] = new_val\n",
        "    return df\n",
        "def iterar_ruo(df, n=3):\n",
        "    for i in range(n): \n",
        "        df2 = reduce_upper_outliers(df)\n",
        "    return df2\n",
        "def fourier_transform(df):\n",
        "    df_fft = np.abs(np.fft.fft(df, axis=1))\n",
        "    return df_fft\n",
        "def apply_filter(df):\n",
        "    filt = ndimage.filters.gaussian_filter(df, sigma=10)\n",
        "    return filt\n",
        "def apply_normalization(df_train, df_test):\n",
        "    norm_train = normalize(df_train)\n",
        "    norm_test = normalize(df_test)\n",
        "\n",
        "    return pd.DataFrame(norm_train), pd.DataFrame(norm_test)\n",
        "def apply_standarization(df_train, df_test):\n",
        "    scaler = StandardScaler()\n",
        "    norm_train = scaler.fit_transform(df_train)\n",
        "    norm_test = scaler.transform(df_test)\n",
        "    \n",
        "    norm_train = pd.DataFrame(norm_train)\n",
        "    norm_test = pd.DataFrame(norm_test)\n",
        "    return norm_train, norm_test"
      ],
      "id": "sNIJLoLFGEQ8",
      "execution_count": 85,
      "outputs": []
    },
    {
      "cell_type": "code",
      "metadata": {
        "id": "VwxuH0_gG_tH"
      },
      "source": [
        "X_train = iterar_ruo(X_train)\n",
        "X_test = iterar_ruo(X_test)\n",
        "\n",
        "fouriertrain = fourier_transform(X_train)\n",
        "fouriertest = fourier_transform(X_test)\n",
        "\n",
        "filtertrain = apply_filter(fouriertrain)\n",
        "filtertest = apply_filter(fouriertest)\n",
        "\n",
        "norm_train, norm_test  = apply_normalization(filtertrain, filtertest)\n",
        "\n",
        "stand_train, stand_test = apply_standarization(norm_train, norm_test)\n"
      ],
      "id": "VwxuH0_gG_tH",
      "execution_count": 86,
      "outputs": []
    },
    {
      "cell_type": "code",
      "metadata": {
        "colab": {
          "base_uri": "https://localhost:8080/"
        },
        "id": "1jVhChyKH53n",
        "outputId": "9af7364c-9fdf-49ee-a5fd-aac8edf44def"
      },
      "source": [
        "from sklearn.utils import resample\n",
        "from imblearn.over_sampling import RandomOverSampler, SMOTE\n",
        "from collections import Counter\n",
        "\n",
        "X_total = stand_train.copy()\n",
        "os =  SMOTE(sampling_strategy='minority')\n",
        "final_train_x, final_train_y = os.fit_sample(X_total, y_train)\n",
        "\n",
        "print (\"Distribution before resampling {}\".format(Counter(y_train)))\n",
        "print (\"Distribution labels after resampling {}\".format(Counter(final_train_y)))\n"
      ],
      "id": "1jVhChyKH53n",
      "execution_count": 87,
      "outputs": [
        {
          "output_type": "stream",
          "text": [
            "Distribution before resampling Counter({1: 5050, 2: 37})\n",
            "Distribution labels after resampling Counter({2: 5050, 1: 5050})\n"
          ],
          "name": "stdout"
        }
      ]
    },
    {
      "cell_type": "code",
      "metadata": {
        "colab": {
          "base_uri": "https://localhost:8080/",
          "height": 164
        },
        "id": "__6JKnRSIODX",
        "outputId": "cd914032-73cd-434c-8c6b-874a565f23cc"
      },
      "source": [
        "upsampling.shape"
      ],
      "id": "__6JKnRSIODX",
      "execution_count": 88,
      "outputs": [
        {
          "output_type": "error",
          "ename": "NameError",
          "evalue": "ignored",
          "traceback": [
            "\u001b[0;31m---------------------------------------------------------------------------\u001b[0m",
            "\u001b[0;31mNameError\u001b[0m                                 Traceback (most recent call last)",
            "\u001b[0;32m<ipython-input-88-0020f760900c>\u001b[0m in \u001b[0;36m<module>\u001b[0;34m()\u001b[0m\n\u001b[0;32m----> 1\u001b[0;31m \u001b[0mupsampling\u001b[0m\u001b[0;34m.\u001b[0m\u001b[0mshape\u001b[0m\u001b[0;34m\u001b[0m\u001b[0;34m\u001b[0m\u001b[0m\n\u001b[0m",
            "\u001b[0;31mNameError\u001b[0m: name 'upsampling' is not defined"
          ]
        }
      ]
    },
    {
      "cell_type": "code",
      "metadata": {
        "id": "ojspJF2xIgO0"
      },
      "source": [
        "labels = np.zeros((final_train_y.shape[0], 2))\n",
        "labels[np.arange(final_train_y.size),final_train_y-1] = 1"
      ],
      "id": "ojspJF2xIgO0",
      "execution_count": 89,
      "outputs": []
    },
    {
      "cell_type": "code",
      "metadata": {
        "id": "PebbwIosIME1"
      },
      "source": [
        "def create_model(X_samp, activation='relu', learn_rate=0.01):\n",
        "    model = Sequential()\n",
        "    model.add(Conv1D(filters = 16, input_shape = (X_samp.shape[1],1), kernel_size=(3), activation = activation, kernel_regularizer='l2', padding='same'))\n",
        "    model.add(MaxPooling1D(pool_size = 2, strides = 2))\n",
        "    model.add(Dropout(0.5))\n",
        "    model.add(Flatten())\n",
        "    model.add(Dense(32, activation = activation, kernel_regularizer='l2'))\n",
        "    model.add(Dropout(0.5))\n",
        "    model.add(Dense(2, activation = \"sigmoid\", kernel_regularizer='l2'))\n",
        "    \n",
        "    optimizer = Adam(lr=learn_rate)\n",
        "    #Adam is a optimized version of a SGD (Stochastic Gradient Descendant) optimizer.\n",
        "    model.compile(optimizer=optimizer, loss='binary_crossentropy')\n",
        "    #binary_crossentropy is the go-to loss function for classification tasks, either balanced or imbalanced. \n",
        "    #It is the first choice when no preference is built from domain knowledge yet.\n",
        "    return model"
      ],
      "id": "PebbwIosIME1",
      "execution_count": 103,
      "outputs": []
    },
    {
      "cell_type": "code",
      "metadata": {
        "id": "fXHhttRsIcnk"
      },
      "source": [
        "EPOCHS = 50\n",
        "VAL_SPLIT = 0.1\n",
        "BATCH_SIZE = 120\n",
        "early_stop = EarlyStopping(monitor=['val_loss', 'accuracy','val_accuracy'])"
      ],
      "id": "fXHhttRsIcnk",
      "execution_count": 105,
      "outputs": []
    },
    {
      "cell_type": "code",
      "metadata": {
        "id": "xkOH8OP_GUYR"
      },
      "source": [
        "final_train = np.expand_dims(final_train_x,axis=2)\n",
        "final_test = np.expand_dims(stand_test,axis=2)\n"
      ],
      "id": "xkOH8OP_GUYR",
      "execution_count": 106,
      "outputs": []
    },
    {
      "cell_type": "code",
      "metadata": {
        "colab": {
          "base_uri": "https://localhost:8080/"
        },
        "id": "9mv0S18-MtIY",
        "outputId": "e3c4b238-7107-4cbe-e0c2-92745219f834"
      },
      "source": [
        "final_train.shape, labels.shape"
      ],
      "id": "9mv0S18-MtIY",
      "execution_count": 107,
      "outputs": [
        {
          "output_type": "execute_result",
          "data": {
            "text/plain": [
              "((10100, 3197, 1), (10100, 2))"
            ]
          },
          "metadata": {
            "tags": []
          },
          "execution_count": 107
        }
      ]
    },
    {
      "cell_type": "code",
      "metadata": {
        "colab": {
          "base_uri": "https://localhost:8080/"
        },
        "id": "1acOojCsKin8",
        "outputId": "5c039ee0-e240-41f5-8708-a95978cbedf8"
      },
      "source": [
        "model = create_model(final_train)\n",
        "start_time_train = timeit.default_timer()\n",
        "baseline_history= model.fit(final_train, labels, validation_split = VAL_SPLIT, epochs=EPOCHS, batch_size=BATCH_SIZE, shuffle=True)\n",
        "upsampling_elapsed = timeit.default_timer() - start_time_train\n",
        "print('Training time: ' + str(upsampling_elapsed))"
      ],
      "id": "1acOojCsKin8",
      "execution_count": 108,
      "outputs": [
        {
          "output_type": "stream",
          "text": [
            "Epoch 1/50\n",
            "76/76 [==============================] - 13s 155ms/step - loss: 1.4851 - val_loss: 0.2529\n",
            "Epoch 2/50\n",
            "76/76 [==============================] - 12s 153ms/step - loss: 0.2248 - val_loss: 0.1545\n",
            "Epoch 3/50\n",
            "76/76 [==============================] - 12s 152ms/step - loss: 0.2038 - val_loss: 0.2154\n",
            "Epoch 4/50\n",
            "76/76 [==============================] - 12s 152ms/step - loss: 0.2137 - val_loss: 0.2414\n",
            "Epoch 5/50\n",
            "76/76 [==============================] - 12s 152ms/step - loss: 0.2475 - val_loss: 0.1506\n",
            "Epoch 6/50\n",
            "76/76 [==============================] - 12s 152ms/step - loss: 0.2278 - val_loss: 0.1868\n",
            "Epoch 7/50\n",
            "76/76 [==============================] - 12s 153ms/step - loss: 0.2021 - val_loss: 0.1854\n",
            "Epoch 8/50\n",
            "76/76 [==============================] - 12s 154ms/step - loss: 0.1928 - val_loss: 0.1403\n",
            "Epoch 9/50\n",
            "76/76 [==============================] - 12s 152ms/step - loss: 0.2352 - val_loss: 0.2228\n",
            "Epoch 10/50\n",
            "76/76 [==============================] - 12s 152ms/step - loss: 0.2361 - val_loss: 0.1694\n",
            "Epoch 11/50\n",
            "76/76 [==============================] - 12s 153ms/step - loss: 0.2061 - val_loss: 0.1723\n",
            "Epoch 12/50\n",
            "76/76 [==============================] - 12s 153ms/step - loss: 0.1896 - val_loss: 0.1493\n",
            "Epoch 13/50\n",
            "76/76 [==============================] - 12s 154ms/step - loss: 0.1946 - val_loss: 0.1415\n",
            "Epoch 14/50\n",
            "76/76 [==============================] - 12s 152ms/step - loss: 0.2144 - val_loss: 0.1458\n",
            "Epoch 15/50\n",
            "76/76 [==============================] - 12s 153ms/step - loss: 0.1895 - val_loss: 0.1328\n",
            "Epoch 16/50\n",
            "76/76 [==============================] - 12s 153ms/step - loss: 0.1947 - val_loss: 0.1270\n",
            "Epoch 17/50\n",
            "76/76 [==============================] - 12s 152ms/step - loss: 0.1982 - val_loss: 0.2097\n",
            "Epoch 18/50\n",
            "76/76 [==============================] - 12s 154ms/step - loss: 0.2086 - val_loss: 0.1877\n",
            "Epoch 19/50\n",
            "76/76 [==============================] - 12s 152ms/step - loss: 0.2376 - val_loss: 0.1790\n",
            "Epoch 20/50\n",
            "76/76 [==============================] - 12s 154ms/step - loss: 0.2015 - val_loss: 0.1288\n",
            "Epoch 21/50\n",
            "76/76 [==============================] - 12s 152ms/step - loss: 0.1632 - val_loss: 0.1478\n",
            "Epoch 22/50\n",
            "76/76 [==============================] - 12s 152ms/step - loss: 0.1630 - val_loss: 0.2285\n",
            "Epoch 23/50\n",
            "76/76 [==============================] - 12s 153ms/step - loss: 0.2245 - val_loss: 0.1665\n",
            "Epoch 24/50\n",
            "76/76 [==============================] - 12s 153ms/step - loss: 0.2047 - val_loss: 0.2372\n",
            "Epoch 25/50\n",
            "76/76 [==============================] - 12s 153ms/step - loss: 0.2247 - val_loss: 0.1498\n",
            "Epoch 26/50\n",
            "76/76 [==============================] - 12s 152ms/step - loss: 0.1969 - val_loss: 0.1633\n",
            "Epoch 27/50\n",
            "76/76 [==============================] - 12s 153ms/step - loss: 0.2054 - val_loss: 0.1497\n",
            "Epoch 28/50\n",
            "76/76 [==============================] - 12s 153ms/step - loss: 0.2323 - val_loss: 0.1708\n",
            "Epoch 29/50\n",
            "76/76 [==============================] - 12s 153ms/step - loss: 0.2171 - val_loss: 0.1812\n",
            "Epoch 30/50\n",
            "76/76 [==============================] - 12s 153ms/step - loss: 0.2052 - val_loss: 0.1900\n",
            "Epoch 31/50\n",
            "76/76 [==============================] - 12s 153ms/step - loss: 0.2157 - val_loss: 0.1532\n",
            "Epoch 32/50\n",
            "76/76 [==============================] - 12s 154ms/step - loss: 0.1928 - val_loss: 0.1747\n",
            "Epoch 33/50\n",
            "76/76 [==============================] - 12s 153ms/step - loss: 0.1709 - val_loss: 0.1657\n",
            "Epoch 34/50\n",
            "76/76 [==============================] - 12s 153ms/step - loss: 0.1651 - val_loss: 0.1835\n",
            "Epoch 35/50\n",
            "76/76 [==============================] - 12s 154ms/step - loss: 0.2125 - val_loss: 0.2863\n",
            "Epoch 36/50\n",
            "76/76 [==============================] - 12s 153ms/step - loss: 0.2345 - val_loss: 0.1704\n",
            "Epoch 37/50\n",
            "76/76 [==============================] - 12s 154ms/step - loss: 0.2071 - val_loss: 0.2675\n",
            "Epoch 38/50\n",
            "76/76 [==============================] - 12s 153ms/step - loss: 0.2084 - val_loss: 0.1907\n",
            "Epoch 39/50\n",
            "76/76 [==============================] - 12s 154ms/step - loss: 0.2031 - val_loss: 0.2740\n",
            "Epoch 40/50\n",
            "76/76 [==============================] - 12s 154ms/step - loss: 0.2990 - val_loss: 0.1215\n",
            "Epoch 41/50\n",
            "76/76 [==============================] - 12s 153ms/step - loss: 0.1748 - val_loss: 0.1423\n",
            "Epoch 42/50\n",
            "76/76 [==============================] - 12s 153ms/step - loss: 0.1820 - val_loss: 0.1423\n",
            "Epoch 43/50\n",
            "76/76 [==============================] - 12s 153ms/step - loss: 0.1750 - val_loss: 0.1401\n",
            "Epoch 44/50\n",
            "76/76 [==============================] - 12s 154ms/step - loss: 0.1870 - val_loss: 0.2152\n",
            "Epoch 45/50\n",
            "76/76 [==============================] - 12s 153ms/step - loss: 0.2059 - val_loss: 0.1616\n",
            "Epoch 46/50\n",
            "76/76 [==============================] - 12s 153ms/step - loss: 0.2086 - val_loss: 0.1564\n",
            "Epoch 47/50\n",
            "76/76 [==============================] - 12s 153ms/step - loss: 0.1943 - val_loss: 0.1475\n",
            "Epoch 48/50\n",
            "76/76 [==============================] - 12s 153ms/step - loss: 0.1791 - val_loss: 0.3596\n",
            "Epoch 49/50\n",
            "76/76 [==============================] - 12s 154ms/step - loss: 0.3762 - val_loss: 0.1900\n",
            "Epoch 50/50\n",
            "76/76 [==============================] - 12s 156ms/step - loss: 0.1804 - val_loss: 0.2131\n",
            "Training time: 582.5080020390014\n"
          ],
          "name": "stdout"
        }
      ]
    },
    {
      "cell_type": "code",
      "metadata": {
        "id": "Hn264tUGK8uw"
      },
      "source": [
        "train_predictions = model.predict(final_train)\n",
        "train_preds = np.argmax(train_predictions, axis=1)"
      ],
      "id": "Hn264tUGK8uw",
      "execution_count": 109,
      "outputs": []
    },
    {
      "cell_type": "code",
      "metadata": {
        "colab": {
          "base_uri": "https://localhost:8080/"
        },
        "id": "vTd4bGApMfxT",
        "outputId": "50a99f8a-2b25-4f32-8f14-4e32f3bbf5b1"
      },
      "source": [
        "final_train_x.shape"
      ],
      "id": "vTd4bGApMfxT",
      "execution_count": 110,
      "outputs": [
        {
          "output_type": "execute_result",
          "data": {
            "text/plain": [
              "(10100, 3197)"
            ]
          },
          "metadata": {
            "tags": []
          },
          "execution_count": 110
        }
      ]
    },
    {
      "cell_type": "code",
      "metadata": {
        "id": "zyrZs6FlMPep"
      },
      "source": [
        "y_train = np.argmax(labels, axis =1)"
      ],
      "id": "zyrZs6FlMPep",
      "execution_count": 111,
      "outputs": []
    },
    {
      "cell_type": "code",
      "metadata": {
        "colab": {
          "base_uri": "https://localhost:8080/",
          "height": 582
        },
        "id": "UB1m1TWsLpcQ",
        "outputId": "3b94c5f0-6554-4a08-f0a5-f704fcbc4f6e"
      },
      "source": [
        "print(classification_report(train_preds, y_train))\n",
        "\n",
        "from sklearn.metrics import confusion_matrix\n",
        "import seaborn as sn\n",
        "import pandas as pd\n",
        "\n",
        "plt.figure(figsize = (10,7))\n",
        "plt.xlabel('Predicted')\n",
        "plt.ylabel('Actual')\n",
        "cm = confusion_matrix(y_train, train_preds)\n",
        "sn.heatmap(cm, annot=True)\n",
        "plt.show()"
      ],
      "id": "UB1m1TWsLpcQ",
      "execution_count": 112,
      "outputs": [
        {
          "output_type": "stream",
          "text": [
            "              precision    recall  f1-score   support\n",
            "\n",
            "           0       1.00      1.00      1.00      5037\n",
            "           1       1.00      1.00      1.00      5063\n",
            "\n",
            "    accuracy                           1.00     10100\n",
            "   macro avg       1.00      1.00      1.00     10100\n",
            "weighted avg       1.00      1.00      1.00     10100\n",
            "\n"
          ],
          "name": "stdout"
        },
        {
          "output_type": "display_data",
          "data": {
            "image/png": "[encoded data removed]",
            "text/plain": [
              "<Figure size 720x504 with 2 Axes>"
            ]
          },
          "metadata": {
            "tags": [],
            "needs_background": "light"
          }
        }
      ]
    },
    {
      "cell_type": "code",
      "metadata": {
        "colab": {
          "base_uri": "https://localhost:8080/",
          "height": 581
        },
        "id": "tOWqTvUfK2H4",
        "outputId": "9a8997d4-d0b6-4ef4-bfa8-cb37f909ad9c"
      },
      "source": [
        "test_predictions = model.predict_classes(final_test)\n",
        "\n",
        "print(classification_report(test_predictions, y_test-1))\n",
        "\n",
        "from sklearn.metrics import confusion_matrix\n",
        "import seaborn as sn\n",
        "import pandas as pd\n",
        "\n",
        "plt.figure(figsize = (10,7))\n",
        "plt.xlabel('Predicted')\n",
        "plt.ylabel('Actual')\n",
        "cm = confusion_matrix(y_test-1, test_predictions)\n",
        "sn.heatmap(cm, annot=True)\n",
        "plt.show()"
      ],
      "id": "tOWqTvUfK2H4",
      "execution_count": 113,
      "outputs": [
        {
          "output_type": "stream",
          "text": [
            "              precision    recall  f1-score   support\n",
            "\n",
            "           0       1.00      1.00      1.00       566\n",
            "           1       0.80      1.00      0.89         4\n",
            "\n",
            "    accuracy                           1.00       570\n",
            "   macro avg       0.90      1.00      0.94       570\n",
            "weighted avg       1.00      1.00      1.00       570\n",
            "\n"
          ],
          "name": "stdout"
        },
        {
          "output_type": "display_data",
          "data": {
            "image/png": "[encoded data removed]",
            "text/plain": [
              "<Figure size 720x504 with 2 Axes>"
            ]
          },
          "metadata": {
            "tags": [],
            "needs_background": "light"
          }
        }
      ]
    },
    {
      "cell_type": "code",
      "metadata": {
        "colab": {
          "base_uri": "https://localhost:8080/",
          "height": 621
        },
        "id": "gBHaWVkYWdYb",
        "outputId": "41e549bb-7804-4b1a-d9f5-8567f629238e"
      },
      "source": [
        "plt.figure(figsize = (20,10))\n",
        "plt.plot(baseline_history.history['loss'])\n",
        "plt.plot(baseline_history.history['val_loss'])\n",
        "plt.title('Training and Validation loss')\n",
        "plt.ylabel('loss')\n",
        "plt.xlabel('epoch')\n",
        "plt.legend(['train', 'val'], loc='upper left')\n",
        "plt.grid()\n"
      ],
      "id": "gBHaWVkYWdYb",
      "execution_count": 114,
      "outputs": [
        {
          "output_type": "display_data",
          "data": {
            "image/png": "[encoded data removed]",
            "text/plain": [
              "<Figure size 1440x720 with 1 Axes>"
            ]
          },
          "metadata": {
            "tags": [],
            "needs_background": "light"
          }
        }
      ]
    },
    {
      "cell_type": "code",
      "metadata": {
        "id": "gPBTeyQT-6bB"
      },
      "source": [
        "# testing\n",
        "\n",
        "def reduce_upper_outliers(df,reduce = 0.01, half_width=4):\n",
        "    length = df.shape[0]\n",
        "    remove = int(length*reduce)\n",
        "    for idx in sorted_test.index[:remove]:\n",
        "      new = 0\n",
        "      idx_num = int(idx[5:])\n",
        "      for k in range(idx_num-4, idx_num+5):\n",
        "        print(k, test['FLUX.'+str(k)])\n",
        "        new +=test['FLUX.'+str(k)]\n",
        "    new/=9\n",
        "    if new_val < values[idx]: # just in case there's a few persistently high adjacent values\n",
        "        df.set_value(i,idx,new_val)\n",
        "    return df\n",
        "def iterar_ruo(df, n=3):\n",
        "    for i in range(n): \n",
        "        df2 = reduce_upper_outliers(df)\n",
        "    return df2"
      ],
      "id": "gPBTeyQT-6bB",
      "execution_count": 115,
      "outputs": []
    },
    {
      "cell_type": "code",
      "metadata": {
        "colab": {
          "base_uri": "https://localhost:8080/",
          "height": 265
        },
        "id": "CvG5wHCzCyGT",
        "outputId": "40ae017f-f1d5-4f35-eb18-cf23356fc133"
      },
      "source": [
        "test = X_train.iloc[0]\n",
        "plt.plot(test)\n",
        "plt.show()\n"
      ],
      "id": "CvG5wHCzCyGT",
      "execution_count": 117,
      "outputs": [
        {
          "output_type": "display_data",
          "data": {
            "image/png": "[encoded data removed]",
            "text/plain": [
              "<Figure size 432x288 with 1 Axes>"
            ]
          },
          "metadata": {
            "tags": [],
            "needs_background": "light"
          }
        }
      ]
    },
    {
      "cell_type": "code",
      "metadata": {
        "colab": {
          "base_uri": "https://localhost:8080/"
        },
        "id": "rkuXAwLMDYP4",
        "outputId": "9c1aef15-c512-464a-de6f-36ba4274ca5d"
      },
      "source": [
        "length = len(test)\n",
        "remove = int(length*0.01)\n",
        "sorted_test = test.sort_values(ascending = False)\n",
        "for j in range(remove): \n",
        "    idx = sorted_test.index[j]\n",
        "    new_val = 0\n",
        "    count = 0\n",
        "    idx_num = int(idx[5:])\n",
        "    for k in range(2*4+1):\n",
        "        idx2 = idx_num + k - 4\n",
        "        print(idx2, test['FLUX.'+str(idx2)])\n",
        "        if idx2 <1 or idx2 >= length or idx_num == idx2:\n",
        "            continue\n",
        "        new_val += test['FLUX.'+str(idx2)]\n",
        "        count += 1\n",
        "    print(new_val)\n",
        "    new_val /= count \n",
        "    break"
      ],
      "id": "rkuXAwLMDYP4",
      "execution_count": 146,
      "outputs": [
        {
          "output_type": "stream",
          "text": [
            "294 297.99766744613646\n",
            "295 300.82361987829205\n",
            "296 318.17979675292963\n",
            "297 315.67761718749995\n",
            "298 319.20343750000006\n",
            "299 303.70727134704583\n",
            "300 292.2\n",
            "301 267.33\n",
            "302 269.71\n",
            "2365.625972611904\n"
          ],
          "name": "stdout"
        }
      ]
    },
    {
      "cell_type": "code",
      "metadata": {
        "colab": {
          "base_uri": "https://localhost:8080/"
        },
        "id": "Ft_gdhe5FuH_",
        "outputId": "666716eb-7c22-419c-b63c-cd846ca2fcbd"
      },
      "source": [
        "for idx in sorted_test.index[:remove]:\n",
        "  new = 0\n",
        "  idx_num = int(idx[5:])\n",
        "  for k in range(idx_num-4, idx_num+5):\n",
        "    print(k, test['FLUX.'+str(k)])\n",
        "    new +=test['FLUX.'+str(k)]\n",
        "  new/=9\n",
        "  break"
      ],
      "id": "Ft_gdhe5FuH_",
      "execution_count": 147,
      "outputs": [
        {
          "output_type": "stream",
          "text": [
            "294 297.99766744613646\n",
            "295 300.82361987829205\n",
            "296 318.17979675292963\n",
            "297 315.67761718749995\n",
            "298 319.20343750000006\n",
            "299 303.70727134704583\n",
            "300 292.2\n",
            "301 267.33\n",
            "302 269.71\n"
          ],
          "name": "stdout"
        }
      ]
    },
    {
      "cell_type": "code",
      "metadata": {
        "id": "HqG779blD2mL"
      },
      "source": [
        ""
      ],
      "id": "HqG779blD2mL",
      "execution_count": null,
      "outputs": []
    }
  ]
}